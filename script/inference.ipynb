{
 "cells": [
  {
   "cell_type": "code",
   "execution_count": 1,
   "id": "72b4aef5",
   "metadata": {},
   "outputs": [
    {
     "name": "stderr",
     "output_type": "stream",
     "text": [
      "/var/folders/g1/fwzzf4q54mg9tqpjb_qknpd80000gn/T/ipykernel_27062/3339213060.py:8: DeprecationWarning: DataFrameGroupBy.apply operated on the grouping columns. This behavior is deprecated, and in a future version of pandas the grouping columns will be excluded from the operation. Either pass `include_groups=False` to exclude the groupings or explicitly select the grouping columns after groupby to silence this warning.\n",
      "  sampled = df.groupby(col).apply(lambda g: g.sample(1)).reset_index(drop=True)\n"
     ]
    },
    {
     "data": {
      "text/plain": [
       "['waiter;samurai;wait upon;serve',\n",
       " 'officer;an official',\n",
       " 'tenacious;take hold;grasp;take to heart',\n",
       " 'elder sister',\n",
       " 'excuse;tolerate;forgive',\n",
       " 'make progress',\n",
       " 'investigate',\n",
       " 'cry;weep;moan',\n",
       " 'chopsticks',\n",
       " 'ribbon',\n",
       " 'guts;bowels;intestines;viscera',\n",
       " 'rush matting',\n",
       " 'insect moulting',\n",
       " 'packed;close;pressed;reprove;rebuke;blame',\n",
       " 'approach;near;close',\n",
       " 'hoe with long blade at acute angle']"
      ]
     },
     "execution_count": 1,
     "metadata": {},
     "output_type": "execute_result"
    }
   ],
   "source": [
    "import pandas as pd\n",
    "\n",
    "def sample_unique_radicals(df, col=\"rad_main\", n=16):\n",
    "    \"\"\"\n",
    "    Return n rows where each row has a unique value from col.\n",
    "    \"\"\"\n",
    "    # group by radical and sample one row from each group\n",
    "    sampled = df.groupby(col).apply(lambda g: g.sample(1)).reset_index(drop=True)\n",
    "    # keep only n unique rows\n",
    "    return sampled.head(n)\n",
    "\n",
    "path = \"/Users/kouki/Desktop/kanji-gen/dataset/subset-even/kanji-even.csv\"\n",
    "df = pd.read_csv(path)\n",
    "sampled_df = sample_unique_radicals(df, n=16)  \n",
    "prompt_train = sampled_df[\"meanings\"].tolist()\n",
    "prompt_train"
   ]
  },
  {
   "cell_type": "code",
   "execution_count": 3,
   "id": "bbbfc823",
   "metadata": {},
   "outputs": [
    {
     "name": "stdout",
     "output_type": "stream",
     "text": [
      "['waiter;samurai;wait upon;serve', 'officer;an official', 'tenacious;take hold;grasp;take to heart', 'elder sister', 'excuse;tolerate;forgive', 'make progress', 'investigate', 'cry;weep;moan', 'chopsticks', 'ribbon', 'guts;bowels;intestines;viscera', 'rush matting', 'insect moulting', 'packed;close;pressed;reprove;rebuke;blame', 'approach;near;close', 'hoe with long blade at acute angle']\n",
      "16\n"
     ]
    }
   ],
   "source": [
    "# within train set\n",
    "## 16 prompt from train set  \n",
    "prompt_train = sampled_df[\"meanings\"].tolist()\n",
    "print(prompt_train)\n",
    "print(len(prompt_train))\n",
    "\n",
    "# out of train set\n",
    "## combinations of 2 radicals   \n",
    "combinations = [\n",
    "    \"mouth speech\",\n",
    "    \"woman heart\",\n",
    "    \"hand metal\",\n",
    "    \"tree insect\",\n",
    "    \"water city\",\n",
    "    \"grass earth\",\n",
    "    \"person speech\",\n",
    "    \"meat bamboo\",\n",
    "    \"heart silk\",\n",
    "    \"mouth insect\"\n",
    "]\n",
    "# single radicals \n",
    "radical_meanings = [\n",
    "    \"mouth\",\n",
    "    \"woman\",\n",
    "    \"heart\",\n",
    "    \"hand\",\n",
    "    \"city\",\n",
    "    \"grass\",\n",
    "    \"water\",\n",
    "    \"tree\",\n",
    "    \"earth\",\n",
    "    \"insect\",\n",
    "    \"silk\",\n",
    "    \"person\",\n",
    "    \"meat\",\n",
    "    \"speech\",\n",
    "    \"metal\",\n",
    "    \"bamboo\"\n",
    "]\n",
    "# david's ha set \n",
    "# num steps : \n",
    "words = [\n",
    "    \"Youtube\",\n",
    "    \"Elden Ring\",\n",
    "    \"Nintendo Switch\",\n",
    "    \"Gundam\",\n",
    "    \"Super Mario\",\n",
    "    \"Drunken Snake Spirit\",\n",
    "    \"One Axe\",\n",
    "    \"Crown Box\",\n",
    "    \"Bird Skin\",\n",
    "    \"Final Fantasy\",\n",
    "    \"Singularity\",\n",
    "    \"Elon Musk\"\n",
    "] "
   ]
  }
 ],
 "metadata": {
  "kernelspec": {
   "display_name": "base",
   "language": "python",
   "name": "python3"
  },
  "language_info": {
   "codemirror_mode": {
    "name": "ipython",
    "version": 3
   },
   "file_extension": ".py",
   "mimetype": "text/x-python",
   "name": "python",
   "nbconvert_exporter": "python",
   "pygments_lexer": "ipython3",
   "version": "3.12.7"
  }
 },
 "nbformat": 4,
 "nbformat_minor": 5
}
